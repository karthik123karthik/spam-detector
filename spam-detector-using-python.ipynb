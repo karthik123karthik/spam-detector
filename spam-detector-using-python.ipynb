{
 "cells": [
  {
   "cell_type": "code",
   "execution_count": 1,
   "id": "e05b05de",
   "metadata": {},
   "outputs": [],
   "source": [
    "import pandas as pd;\n",
    "import numpy as np;"
   ]
  },
  {
   "cell_type": "code",
   "execution_count": 2,
   "id": "c06f0947",
   "metadata": {},
   "outputs": [],
   "source": [
    "data_frame = pd.read_csv(\"emails.csv\");\n",
    "# data_frame.to_csv(\"emails.csv\", index = False)\n",
    "# data_frame = pd.read_csv(\"emails.csv\");"
   ]
  },
  {
   "cell_type": "code",
   "execution_count": 3,
   "id": "8cf0c8ef",
   "metadata": {},
   "outputs": [],
   "source": [
    "## extracting features from data set.\n",
    "# X_features = data_frame.iloc[ : , 1: 3001];\n",
    "# Y = data_frame['Prediction'];"
   ]
  },
  {
   "cell_type": "code",
   "execution_count": 4,
   "id": "dfa86a95",
   "metadata": {},
   "outputs": [],
   "source": [
    "# print(data_frame.shape, X_features.shape);\n",
    "# print(Y.shape)"
   ]
  },
  {
   "cell_type": "code",
   "execution_count": 5,
   "id": "6961d0cb",
   "metadata": {},
   "outputs": [
    {
     "name": "stdout",
     "output_type": "stream",
     "text": [
      "(5172, 3002)\n"
     ]
    }
   ],
   "source": [
    "data_frame = data_frame.to_numpy();\n",
    "print(data_frame.shape);"
   ]
  },
  {
   "cell_type": "code",
   "execution_count": 6,
   "id": "bb138a56",
   "metadata": {},
   "outputs": [],
   "source": [
    "X_features = data_frame[0:1000 , 1:3001];\n",
    "Y = data_frame[0:1000 , 3001];"
   ]
  },
  {
   "cell_type": "code",
   "execution_count": 7,
   "id": "ce9c9626",
   "metadata": {},
   "outputs": [],
   "source": [
    "# print(X_features);"
   ]
  },
  {
   "cell_type": "code",
   "execution_count": 8,
   "id": "441f60d8",
   "metadata": {},
   "outputs": [],
   "source": [
    "## steps in logistic regression\n",
    "# 1. get the data set\n",
    "# 2. calculate z  = w*x + b where z is an numpy array\n",
    "# 3. sigmoid function g(z) = 1 / 1 + e^-z\n",
    "# 4. write the cost function J(w) = 1/m * summation(-y*(log(a)) - (1 - y)*log(1-a)) where a is sigmoid function and y is the actual output\n",
    "# 5. write gradient descent algorithm to reduce cost function"
   ]
  },
  {
   "cell_type": "code",
   "execution_count": 9,
   "id": "4782232a",
   "metadata": {},
   "outputs": [],
   "source": [
    "def sigmoid(z):\n",
    "    '''\n",
    "      it will return the sigmoid function    \n",
    "      z = w.x + b\n",
    "    '''\n",
    "    \n",
    "    denominator = 1 + np.exp(-1*z)\n",
    "    g = 1 / denominator\n",
    "    \n",
    "    return g\n",
    "\n"
   ]
  },
  {
   "cell_type": "code",
   "execution_count": 10,
   "id": "1f103719",
   "metadata": {},
   "outputs": [],
   "source": [
    "# computing cost function \n",
    "def compute_cost(W, X_train, Y, b, *args):\n",
    "    '''computes the sum of the lose'''\n",
    "    \n",
    "    (m,n) = X_train.shape;\n",
    "    totalcost = 0;\n",
    "    \n",
    "    for i in range(m):\n",
    "        z_i = np.dot(W, X_train[i]) + b\n",
    "        f_wb_i = sigmoid(z_i)\n",
    "        loss_i = -1*Y[i]*np.log(f_wb_i + 1e-10) - (1 - Y[i])*np.log(1 - f_wb_i + 1e-10)\n",
    "        totalcost += loss_i\n",
    "    totalcost = (1/ m) * totalcost\n",
    "    return totalcost\n",
    "    "
   ]
  },
  {
   "cell_type": "code",
   "execution_count": 11,
   "id": "eb87fcf3",
   "metadata": {},
   "outputs": [
    {
     "name": "stdout",
     "output_type": "stream",
     "text": [
      "cost is : 16.463\n"
     ]
    }
   ],
   "source": [
    "(m,n) = X_features.shape;\n",
    "initial_w = np.random.rand(n);\n",
    "#print(initial_w)\n",
    "initial_b = 100\n",
    "print(f\"cost is : {compute_cost(initial_w, X_features, Y, initial_b):.3f}\");"
   ]
  },
  {
   "cell_type": "code",
   "execution_count": 12,
   "id": "75f2eb87",
   "metadata": {},
   "outputs": [],
   "source": [
    "def compute_gradient(X, y, W, b, *args):\n",
    "    '''computes the gradient descent with respect to each w and b'''\n",
    "    (m, n) = X.shape;\n",
    "    dj_dw = np.zeros(n);\n",
    "    dj_db = 0\n",
    "    \n",
    "    for i in range(m):\n",
    "        z_i = np.dot(W, X[i]) + b\n",
    "        f_xi = sigmoid(z_i)\n",
    "        for j in range(n):\n",
    "            dj_dw[j]+= (f_xi - y[i])*X[i][j]\n",
    "        dj_db += (f_xi - y[i])\n",
    "    dj_dw = dj_dw / m;\n",
    "    dj_db = dj_db / m;\n",
    "    \n",
    "    return dj_dw, dj_db;"
   ]
  },
  {
   "cell_type": "code",
   "execution_count": 13,
   "id": "881655af",
   "metadata": {},
   "outputs": [],
   "source": [
    "dj_dw, dj_db = compute_gradient(X_features, Y, initial_w, initial_b)\n",
    "# print(f\"dj_db for initial value w and b is {dj_db}\")\n",
    "#print(f\"dj_dw for initial value w and b is {dj_dw.tolist()}\");"
   ]
  },
  {
   "cell_type": "code",
   "execution_count": 14,
   "id": "582d3d5d",
   "metadata": {},
   "outputs": [],
   "source": [
    "def gradient_descent(X, y, W, b, computecost, gradient, alpha, numiters):\n",
    "    ''' computes best value for W and b and also compute the cost and J_history'''\n",
    "    \n",
    "    (m, n) = X.shape;\n",
    "    \n",
    "    J_history = [] # it holds the details of the previous transactions\n",
    "    W_history = []\n",
    "    \n",
    "    for i in range(numiters):\n",
    "        dj_dw, dj_db = gradient(X, y, W, b)\n",
    "        W = W - alpha * dj_dw;\n",
    "        b = b - alpha * dj_db;\n",
    "        \n",
    "        if i<10000:\n",
    "            cost = computecost(W, X, y, b);\n",
    "            J_history.append(cost)\n",
    "        if i % 100 == 0:\n",
    "            W_history.append(W);\n",
    "            print(f\"cost for current w is {J_history[-1]}\");\n",
    "    \n",
    "    return W, b, J_history, W_history;\n",
    "            "
   ]
  },
  {
   "cell_type": "code",
   "execution_count": null,
   "id": "c5449c41",
   "metadata": {},
   "outputs": [
    {
     "name": "stdout",
     "output_type": "stream",
     "text": [
      "cost for current w is 16.463483414878755\n"
     ]
    },
    {
     "name": "stderr",
     "output_type": "stream",
     "text": [
      "C:\\Users\\user\\AppData\\Local\\Temp\\ipykernel_5520\\636761120.py:7: RuntimeWarning: overflow encountered in exp\n",
      "  denominator = 1 + np.exp(-1*z)\n"
     ]
    }
   ],
   "source": [
    "iterations = 10000\n",
    "alpha = 0.01\n",
    "\n",
    "w,b, J_history,_ = gradient_descent(X_features ,Y, initial_w, initial_b, \n",
    "                                   compute_cost, compute_gradient, alpha, iterations);"
   ]
  },
  {
   "cell_type": "code",
   "execution_count": null,
   "id": "4b19872c",
   "metadata": {},
   "outputs": [],
   "source": []
  }
 ],
 "metadata": {
  "kernelspec": {
   "display_name": "Python 3 (ipykernel)",
   "language": "python",
   "name": "python3"
  },
  "language_info": {
   "codemirror_mode": {
    "name": "ipython",
    "version": 3
   },
   "file_extension": ".py",
   "mimetype": "text/x-python",
   "name": "python",
   "nbconvert_exporter": "python",
   "pygments_lexer": "ipython3",
   "version": "3.11.1"
  }
 },
 "nbformat": 4,
 "nbformat_minor": 5
}
