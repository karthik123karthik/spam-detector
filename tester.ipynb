{
 "cells": [
  {
   "cell_type": "code",
   "execution_count": 1,
   "id": "61790dd5",
   "metadata": {},
   "outputs": [],
   "source": [
    "import joblib;"
   ]
  },
  {
   "cell_type": "code",
   "execution_count": 3,
   "id": "aa147c67",
   "metadata": {},
   "outputs": [],
   "source": [
    "feature_extraction = joblib.load(\"feature_extraction\");"
   ]
  },
  {
   "cell_type": "code",
   "execution_count": 11,
   "id": "adb1fed5",
   "metadata": {},
   "outputs": [],
   "source": [
    "email = \"WINNER!! As a valued network customer you have been selected to receivea £900 prize reward! To claim call 09061701461. Claim code KL341. Valid 12 hours only\"\n",
    "transformed_email = feature_extraction.transform([email]);"
   ]
  },
  {
   "cell_type": "code",
   "execution_count": 12,
   "id": "d8313569",
   "metadata": {},
   "outputs": [
    {
     "name": "stdout",
     "output_type": "stream",
     "text": [
      "  (0, 7654)\t0.07446443080536713\n",
      "  (0, 7482)\t0.22303889097793797\n",
      "  (0, 7196)\t0.22812237057430745\n",
      "  (0, 7192)\t0.21296821606207822\n",
      "  (0, 6892)\t0.14582753064128648\n",
      "  (0, 5948)\t0.20526421935754938\n",
      "  (0, 5730)\t0.24589704219469602\n",
      "  (0, 5587)\t0.27383867300782355\n",
      "  (0, 5388)\t0.17140840151237352\n",
      "  (0, 4915)\t0.1414882189709174\n",
      "  (0, 4720)\t0.2039180185074502\n",
      "  (0, 3927)\t0.27383867300782355\n",
      "  (0, 3482)\t0.21863538065516652\n",
      "  (0, 3328)\t0.11010047049292129\n",
      "  (0, 2107)\t0.18380957107551565\n",
      "  (0, 1865)\t0.2066677222922737\n",
      "  (0, 1806)\t0.3226236630978587\n",
      "  (0, 1592)\t0.11056385996395743\n",
      "  (0, 1275)\t0.15886794765043522\n",
      "  (0, 1070)\t0.15058026594918758\n",
      "  (0, 715)\t0.23413485079806642\n",
      "  (0, 273)\t0.22812237057430745\n",
      "  (0, 188)\t0.27383867300782355\n"
     ]
    }
   ],
   "source": [
    "print(transformed_email)"
   ]
  },
  {
   "cell_type": "code",
   "execution_count": 13,
   "id": "121a1b2f",
   "metadata": {},
   "outputs": [],
   "source": [
    "model = joblib.load(\"model\")"
   ]
  },
  {
   "cell_type": "code",
   "execution_count": 14,
   "id": "c53e7890",
   "metadata": {},
   "outputs": [
    {
     "name": "stdout",
     "output_type": "stream",
     "text": [
      "[1]\n"
     ]
    }
   ],
   "source": [
    "print(model.predict(transformed_email))"
   ]
  },
  {
   "cell_type": "code",
   "execution_count": null,
   "id": "a936fa7d",
   "metadata": {},
   "outputs": [],
   "source": []
  }
 ],
 "metadata": {
  "kernelspec": {
   "display_name": "Python 3 (ipykernel)",
   "language": "python",
   "name": "python3"
  },
  "language_info": {
   "codemirror_mode": {
    "name": "ipython",
    "version": 3
   },
   "file_extension": ".py",
   "mimetype": "text/x-python",
   "name": "python",
   "nbconvert_exporter": "python",
   "pygments_lexer": "ipython3",
   "version": "3.11.1"
  }
 },
 "nbformat": 4,
 "nbformat_minor": 5
}
