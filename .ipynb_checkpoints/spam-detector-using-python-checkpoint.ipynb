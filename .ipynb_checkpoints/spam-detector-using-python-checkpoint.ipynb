{
 "cells": [
  {
   "cell_type": "code",
   "execution_count": 1,
   "id": "e05b05de",
   "metadata": {},
   "outputs": [],
   "source": [
    "import pandas as pd;\n",
    "import numpy as np;"
   ]
  },
  {
   "cell_type": "code",
   "execution_count": 2,
   "id": "c06f0947",
   "metadata": {},
   "outputs": [],
   "source": [
    "data_frame = pd.read_csv(\"emails.csv\");\n",
    "# data_frame.to_csv(\"emails.csv\", index = False)\n",
    "# data_frame = pd.read_csv(\"emails.csv\");"
   ]
  },
  {
   "cell_type": "code",
   "execution_count": 3,
   "id": "8cf0c8ef",
   "metadata": {},
   "outputs": [],
   "source": [
    "## extracting features from data set.\n",
    "# X_features = data_frame.iloc[ : , 1: 3001];\n",
    "# Y = data_frame['Prediction'];"
   ]
  },
  {
   "cell_type": "code",
   "execution_count": 4,
   "id": "dfa86a95",
   "metadata": {},
   "outputs": [],
   "source": [
    "# print(data_frame.shape, X_features.shape);\n",
    "# print(Y.shape)"
   ]
  },
  {
   "cell_type": "code",
   "execution_count": 5,
   "id": "6961d0cb",
   "metadata": {},
   "outputs": [
    {
     "name": "stdout",
     "output_type": "stream",
     "text": [
      "(5172, 3002)\n"
     ]
    }
   ],
   "source": [
    "data_frame = data_frame.to_numpy();\n",
    "print(data_frame.shape);"
   ]
  },
  {
   "cell_type": "code",
   "execution_count": 6,
   "id": "bb138a56",
   "metadata": {},
   "outputs": [],
   "source": [
    "X_features = data_frame[: , 1:3001];\n",
    "Y = data_frame[: , 3001];"
   ]
  },
  {
   "cell_type": "code",
   "execution_count": 7,
   "id": "ce9c9626",
   "metadata": {},
   "outputs": [],
   "source": [
    "# print(X_features);"
   ]
  },
  {
   "cell_type": "code",
   "execution_count": 8,
   "id": "441f60d8",
   "metadata": {},
   "outputs": [],
   "source": [
    "## steps in logistic regression\n",
    "# 1. get the data set\n",
    "# 2. calculate z  = w*x + b where z is an numpy array\n",
    "# 3. sigmoid function g(z) = 1 / 1 + e^-z\n",
    "# 4. write the cost function J(w) = 1/m * summation(-y*(log(a)) - (1 - y)*log(1-a)) where a is sigmoid function and y is the actual output\n",
    "# 5. write gradient descent algorithm to reduce cost function"
   ]
  },
  {
   "cell_type": "code",
   "execution_count": 9,
   "id": "4782232a",
   "metadata": {},
   "outputs": [
    {
     "name": "stdout",
     "output_type": "stream",
     "text": [
      "0.5\n"
     ]
    }
   ],
   "source": [
    "def sigmoid(z):\n",
    "    '''\n",
    "      it will return the sigmoid function    \n",
    "      z = w.x + b\n",
    "    '''\n",
    "    \n",
    "    denominator = 1 + np.exp(-1*z)\n",
    "    g = 1 / denominator\n",
    "    \n",
    "    return g\n",
    "\n"
   ]
  },
  {
   "cell_type": "code",
   "execution_count": 26,
   "id": "1f103719",
   "metadata": {},
   "outputs": [],
   "source": [
    "# computing cost function \n",
    "def compute_cost(W, X_train, Y, b, *args):\n",
    "    '''computes the sum of the lose'''\n",
    "    \n",
    "    (m,n) = X_train.shape;\n",
    "    totalcost = 0;\n",
    "    \n",
    "    for i in range(m):\n",
    "        z_i = np.dot(W, X_train[i]) + b\n",
    "        f_wb_i = sigmoid(z_i)\n",
    "        loss_i = -1*Y[i]*np.log(f_wb_i + 1e-10) - (1 - Y[i])*np.log(1 - f_wb_i + 1e-10)\n",
    "        totalcost += loss_i\n",
    "    totalcost = (1/ m) * totalcost\n",
    "    return totalcost\n",
    "    "
   ]
  },
  {
   "cell_type": "code",
   "execution_count": 28,
   "id": "eb87fcf3",
   "metadata": {},
   "outputs": [
    {
     "name": "stdout",
     "output_type": "stream",
     "text": [
      "[0.44683025 0.13382786 0.53228733 ... 0.55540209 0.80705389 0.71963201]\n",
      "16.347819917747906\n"
     ]
    }
   ],
   "source": [
    "(m,n) = X_features.shape;\n",
    "initial_w = np.random.rand(n);\n",
    "#print(initial_w)\n",
    "initial_b = 100\n",
    "print(compute_cost(initial_w, X_features, Y, initial_b))"
   ]
  },
  {
   "cell_type": "code",
   "execution_count": null,
   "id": "75f2eb87",
   "metadata": {},
   "outputs": [],
   "source": []
  },
  {
   "cell_type": "code",
   "execution_count": null,
   "id": "881655af",
   "metadata": {},
   "outputs": [],
   "source": []
  }
 ],
 "metadata": {
  "kernelspec": {
   "display_name": "Python 3 (ipykernel)",
   "language": "python",
   "name": "python3"
  },
  "language_info": {
   "codemirror_mode": {
    "name": "ipython",
    "version": 3
   },
   "file_extension": ".py",
   "mimetype": "text/x-python",
   "name": "python",
   "nbconvert_exporter": "python",
   "pygments_lexer": "ipython3",
   "version": "3.11.1"
  }
 },
 "nbformat": 4,
 "nbformat_minor": 5
}
