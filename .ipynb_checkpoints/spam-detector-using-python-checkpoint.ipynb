{
 "cells": [
  {
   "cell_type": "code",
   "execution_count": 2,
   "id": "e05b05de",
   "metadata": {},
   "outputs": [],
   "source": [
    "import pandas as pd;\n",
    "import numpy as np;\n",
    "from sklearn.feature_extraction.text import TfidfVectorizer"
   ]
  },
  {
   "cell_type": "code",
   "execution_count": null,
   "id": "c06f0947",
   "metadata": {},
   "outputs": [],
   "source": [
    "### preprocessing data before going for vectorization\n",
    "\n",
    "## colum_names = data_frame.columns\n",
    "# data_frame = data_frame.drop('Unnamed: 0', axis=1)\n",
    "# data_frame = data_frame.drop('label', axis = 1)\n",
    "# data_frame['text'] = data_frame['text'].str.replace('Subject:','')\n",
    "# data_frame['text'] = data_frame['text'].str.lower();\n",
    "# data_frame.to_csv(\"emails2.csv\");\n"
   ]
  },
  {
   "cell_type": "code",
   "execution_count": 9,
   "id": "8cf0c8ef",
   "metadata": {},
   "outputs": [
    {
     "name": "stdout",
     "output_type": "stream",
     "text": [
      "Feature Names: ['00' '000' '0000' ... 'zzocb' 'zzso' 'zzsyt']\n",
      "TF-IDF Matrix: [[0.0995327 0.        0.        ... 0.        0.        0.       ]\n",
      " [0.        0.        0.        ... 0.        0.        0.       ]\n",
      " [0.        0.        0.        ... 0.        0.        0.       ]\n",
      " ...\n",
      " [0.        0.        0.        ... 0.        0.        0.       ]\n",
      " [0.        0.        0.        ... 0.        0.        0.       ]\n",
      " [0.        0.        0.        ... 0.        0.        0.       ]]\n"
     ]
    }
   ],
   "source": [
    "### use scikit-learn to do vectorization of the text\n",
    "data_frame = pd.read_csv(\"emails2.csv\")\n",
    "\n",
    "\n",
    "vectorizer = TfidfVectorizer()\n",
    "\n",
    "X_features = vectorizer.fit_transform(data_frame['text'])\n",
    "\n",
    "#converts sparse matrix to dense matrix\n",
    "X_features = X_features.toarray()\n",
    "\n",
    "feature_names = vectorizer.get_feature_names_out()\n",
    "\n",
    "\n",
    "print(\"Feature Names:\", feature_names)\n",
    "print(\"TF-IDF Matrix:\", X_features)"
   ]
  },
  {
   "cell_type": "code",
   "execution_count": 8,
   "id": "dfa86a95",
   "metadata": {},
   "outputs": [
    {
     "ename": "AttributeError",
     "evalue": "'TfidfVectorizer' object has no attribute 'get_feature_names'",
     "output_type": "error",
     "traceback": [
      "\u001b[1;31m---------------------------------------------------------------------------\u001b[0m",
      "\u001b[1;31mAttributeError\u001b[0m                            Traceback (most recent call last)",
      "Cell \u001b[1;32mIn[8], line 16\u001b[0m\n\u001b[0;32m     13\u001b[0m X_features \u001b[38;5;241m=\u001b[39m X_features\u001b[38;5;241m.\u001b[39mtoarray()\n\u001b[0;32m     15\u001b[0m \u001b[38;5;66;03m# Get the feature names (words) from the vectorizer\u001b[39;00m\n\u001b[1;32m---> 16\u001b[0m feature_names \u001b[38;5;241m=\u001b[39m \u001b[43mvectorizer\u001b[49m\u001b[38;5;241;43m.\u001b[39;49m\u001b[43mget_feature_names\u001b[49m()\n\u001b[0;32m     18\u001b[0m \u001b[38;5;66;03m# Output the feature names and TF-IDF matrix\u001b[39;00m\n\u001b[0;32m     19\u001b[0m \u001b[38;5;28mprint\u001b[39m(\u001b[38;5;124m\"\u001b[39m\u001b[38;5;124mFeature Names:\u001b[39m\u001b[38;5;124m\"\u001b[39m, feature_names)\n",
      "\u001b[1;31mAttributeError\u001b[0m: 'TfidfVectorizer' object has no attribute 'get_feature_names'"
     ]
    }
   ],
   "source": [
    "\n"
   ]
  },
  {
   "cell_type": "code",
   "execution_count": null,
   "id": "6961d0cb",
   "metadata": {},
   "outputs": [],
   "source": [
    "data_frame = data_frame.to_numpy();\n",
    "print(data_frame.shape);"
   ]
  },
  {
   "cell_type": "code",
   "execution_count": null,
   "id": "bb138a56",
   "metadata": {},
   "outputs": [],
   "source": [
    "X_features = data_frame[: , 1:30];\n",
    "Y = data_frame[:, 3001];"
   ]
  },
  {
   "cell_type": "code",
   "execution_count": null,
   "id": "ce9c9626",
   "metadata": {},
   "outputs": [],
   "source": [
    "# print(X_features);"
   ]
  },
  {
   "cell_type": "code",
   "execution_count": null,
   "id": "441f60d8",
   "metadata": {},
   "outputs": [],
   "source": [
    "## steps in logistic regression\n",
    "# 1. get the data set\n",
    "# 2. calculate z  = w*x + b where z is an numpy array\n",
    "# 3. sigmoid function g(z) = 1 / 1 + e^-z\n",
    "# 4. write the cost function J(w) = 1/m * summation(-y*(log(a)) - (1 - y)*log(1-a)) where a is sigmoid function and y is the actual output\n",
    "# 5. write gradient descent algorithm to reduce cost function"
   ]
  },
  {
   "cell_type": "code",
   "execution_count": null,
   "id": "4782232a",
   "metadata": {},
   "outputs": [],
   "source": [
    "def sigmoid(z):\n",
    "    '''\n",
    "      it will return the sigmoid function    \n",
    "      z = w.x + b\n",
    "    '''\n",
    "    z = np.clip(z, -500, 500);\n",
    "    denominator = 1 + np.exp(-1*z)\n",
    "    g = 1 / denominator\n",
    "    \n",
    "    return g\n",
    "\n"
   ]
  },
  {
   "cell_type": "code",
   "execution_count": null,
   "id": "1f103719",
   "metadata": {},
   "outputs": [],
   "source": [
    "# computing cost function \n",
    "def compute_cost(W, X_train, Y, b, *args):\n",
    "    '''computes the sum of the lose'''\n",
    "    \n",
    "    (m,n) = X_train.shape;\n",
    "    totalcost = 0;\n",
    "    \n",
    "    for i in range(m):\n",
    "        z_i = np.dot(W, X_train[i]) + b\n",
    "        f_wb_i = sigmoid(z_i)\n",
    "        loss_i = -1*Y[i]*np.log(f_wb_i + 1e-10) - (1 - Y[i])*np.log(1 - f_wb_i + 1e-10)\n",
    "        totalcost += loss_i\n",
    "    totalcost = (1/ m) * totalcost\n",
    "    return totalcost\n",
    "    "
   ]
  },
  {
   "cell_type": "code",
   "execution_count": null,
   "id": "eb87fcf3",
   "metadata": {},
   "outputs": [],
   "source": [
    "(m,n) = X_features.shape;\n",
    "# initial_w = np.random.rand(n);\n",
    "initial_w = np.zeros(n);\n",
    "#print(initial_w)\n",
    "initial_b = 100\n",
    "print(f\"cost is : {compute_cost(initial_w, X_features, Y, initial_b):.3f}\");"
   ]
  },
  {
   "cell_type": "code",
   "execution_count": null,
   "id": "75f2eb87",
   "metadata": {},
   "outputs": [],
   "source": [
    "def compute_gradient(X, y, W, b, *args):\n",
    "    '''computes the gradient descent with respect to each w and b'''\n",
    "    (m, n) = X.shape;\n",
    "    dj_dw = np.zeros(n);\n",
    "    dj_db = 0\n",
    "    \n",
    "    for i in range(m):\n",
    "        z_i = np.dot(W, X[i]) + b\n",
    "        f_xi = sigmoid(z_i)\n",
    "        for j in range(n):\n",
    "            dj_dw[j]+= (f_xi - y[i])*X[i][j]\n",
    "        dj_db += (f_xi - y[i])\n",
    "    dj_dw = dj_dw / m;\n",
    "    dj_db = dj_db / m;\n",
    "    \n",
    "    return dj_dw, dj_db;"
   ]
  },
  {
   "cell_type": "code",
   "execution_count": null,
   "id": "881655af",
   "metadata": {},
   "outputs": [],
   "source": [
    "dj_dw, dj_db = compute_gradient(X_features, Y, initial_w, initial_b)\n",
    "# print(f\"dj_db for initial value w and b is {dj_db}\")\n",
    "#print(f\"dj_dw for initial value w and b is {dj_dw.tolist()}\");"
   ]
  },
  {
   "cell_type": "code",
   "execution_count": null,
   "id": "582d3d5d",
   "metadata": {},
   "outputs": [],
   "source": [
    "def gradient_descent(X, y, W, b, computecost, gradient, alpha, numiters):\n",
    "    ''' computes best value for W and b and also compute the cost and J_history'''\n",
    "    \n",
    "    (m, n) = X.shape;\n",
    "    \n",
    "    J_history = [] # it holds the details of the previous transactions\n",
    "    W_history = []\n",
    "    \n",
    "    for i in range(numiters):\n",
    "        dj_dw, dj_db = gradient(X, y, W, b)\n",
    "        W = W - alpha * dj_dw;\n",
    "        b = b - alpha * dj_db;\n",
    "        \n",
    "        if i<10000:\n",
    "            cost = computecost(W, X, y, b);\n",
    "            J_history.append(cost)\n",
    "        if i % 10 == 0:\n",
    "            W_history.append(W);\n",
    "            print(f\"cost for current w is {J_history[-1]}\");\n",
    "    \n",
    "    return W, b, J_history, W_history;\n",
    "            "
   ]
  },
  {
   "cell_type": "code",
   "execution_count": null,
   "id": "c5449c41",
   "metadata": {},
   "outputs": [],
   "source": [
    "iterations = 1000\n",
    "alpha = 0.001\n",
    "\n",
    "w,b, J_history,_ = gradient_descent(X_features ,Y, initial_w, initial_b, \n",
    "                                   compute_cost, compute_gradient, alpha, iterations);"
   ]
  },
  {
   "cell_type": "code",
   "execution_count": null,
   "id": "4b19872c",
   "metadata": {},
   "outputs": [],
   "source": []
  }
 ],
 "metadata": {
  "kernelspec": {
   "display_name": "Python 3 (ipykernel)",
   "language": "python",
   "name": "python3"
  },
  "language_info": {
   "codemirror_mode": {
    "name": "ipython",
    "version": 3
   },
   "file_extension": ".py",
   "mimetype": "text/x-python",
   "name": "python",
   "nbconvert_exporter": "python",
   "pygments_lexer": "ipython3",
   "version": "3.11.1"
  }
 },
 "nbformat": 4,
 "nbformat_minor": 5
}
