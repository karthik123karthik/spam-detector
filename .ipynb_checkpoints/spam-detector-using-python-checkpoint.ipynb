{
 "cells": [
  {
   "cell_type": "code",
   "execution_count": 1,
   "id": "e05b05de",
   "metadata": {},
   "outputs": [],
   "source": [
    "import pandas as pd;\n",
    "import numpy as np;"
   ]
  },
  {
   "cell_type": "code",
   "execution_count": 2,
   "id": "c06f0947",
   "metadata": {},
   "outputs": [],
   "source": [
    "data_frame = pd.read_csv(\"emails.csv\");\n",
    "# data_frame.to_csv(\"emails.csv\", index = False)\n",
    "# data_frame = pd.read_csv(\"emails.csv\");"
   ]
  },
  {
   "cell_type": "code",
   "execution_count": 3,
   "id": "8cf0c8ef",
   "metadata": {},
   "outputs": [],
   "source": [
    "## extracting features from data set.\n",
    "# X_features = data_frame.iloc[ : , 1: 3001];\n",
    "# Y = data_frame['Prediction'];"
   ]
  },
  {
   "cell_type": "code",
   "execution_count": 4,
   "id": "dfa86a95",
   "metadata": {},
   "outputs": [],
   "source": [
    "# print(data_frame.shape, X_features.shape);\n",
    "# print(Y.shape)"
   ]
  },
  {
   "cell_type": "code",
   "execution_count": 5,
   "id": "6961d0cb",
   "metadata": {},
   "outputs": [
    {
     "name": "stdout",
     "output_type": "stream",
     "text": [
      "(5172, 3002)\n"
     ]
    }
   ],
   "source": [
    "data_frame = data_frame.to_numpy();\n",
    "print(data_frame.shape);"
   ]
  },
  {
   "cell_type": "code",
   "execution_count": 6,
   "id": "bb138a56",
   "metadata": {},
   "outputs": [],
   "source": [
    "X_features = data_frame[: , 1:3001];\n",
    "Y = data_frame[: , 3001];"
   ]
  },
  {
   "cell_type": "code",
   "execution_count": 7,
   "id": "ce9c9626",
   "metadata": {},
   "outputs": [
    {
     "name": "stdout",
     "output_type": "stream",
     "text": [
      "[[0 0 1 ... 0 0 0]\n",
      " [8 13 24 ... 0 1 0]\n",
      " [0 0 1 ... 0 0 0]\n",
      " ...\n",
      " [0 0 1 ... 0 0 0]\n",
      " [2 7 1 ... 0 1 0]\n",
      " [22 24 5 ... 0 0 0]]\n"
     ]
    }
   ],
   "source": [
    "# print(X_features);"
   ]
  },
  {
   "cell_type": "code",
   "execution_count": 8,
   "id": "441f60d8",
   "metadata": {},
   "outputs": [],
   "source": [
    "## steps in logistic regression\n",
    "# 1. get the data set\n",
    "# 2. calculate z  = w*x + b where z is an numpy array\n",
    "# 3. sigmoid function g(z) = 1 / 1 + e^-z\n",
    "# 4. write the cost function J(w) = 1/m * summation(-y*(log(a)) - (1 - y)*log(1-a)) where a is sigmoid function and y is the actual output\n",
    "# 5. write gradient descent algorithm to reduce cost function"
   ]
  },
  {
   "cell_type": "code",
   "execution_count": 20,
   "id": "4782232a",
   "metadata": {},
   "outputs": [],
   "source": [
    "def sigmoid(X_train, W, b):\n",
    "    (n, m) = X_train.shape\n",
    "    z = np.zeros(n);\n",
    "    for i in range(n):\n",
    "        z[i] = np.dot(W, X_train[i]) + b;\n",
    "    \n",
    "    a = np.zeros(n);\n",
    "    \n",
    "    for i in range(n):\n",
    "        a[i] = 1 / 1 + np.exp(-z[i])\n",
    "    \n",
    "    return a;\n",
    "    "
   ]
  },
  {
   "cell_type": "code",
   "execution_count": 23,
   "id": "1f103719",
   "metadata": {},
   "outputs": [
    {
     "ename": "NameError",
     "evalue": "name 'a' is not defined",
     "output_type": "error",
     "traceback": [
      "\u001b[1;31m---------------------------------------------------------------------------\u001b[0m",
      "\u001b[1;31mNameError\u001b[0m                                 Traceback (most recent call last)",
      "Cell \u001b[1;32mIn[23], line 2\u001b[0m\n\u001b[0;32m      1\u001b[0m W \u001b[38;5;241m=\u001b[39m np\u001b[38;5;241m.\u001b[39mrandom\u001b[38;5;241m.\u001b[39mrand(X_features\u001b[38;5;241m.\u001b[39mshape[\u001b[38;5;241m1\u001b[39m])\n\u001b[1;32m----> 2\u001b[0m \u001b[38;5;28mprint\u001b[39m(sigmoid(X_features, W, \u001b[38;5;241m200\u001b[39m)[\u001b[43ma\u001b[49m \u001b[38;5;241m==\u001b[39m \u001b[38;5;241m0\u001b[39m])\n",
      "\u001b[1;31mNameError\u001b[0m: name 'a' is not defined"
     ]
    }
   ],
   "source": [
    "W = np.random.rand(X_features.shape[1])\n",
    "print(sigmoid(X_features, W, 200)[a == 0])"
   ]
  },
  {
   "cell_type": "code",
   "execution_count": null,
   "id": "eb87fcf3",
   "metadata": {},
   "outputs": [],
   "source": [
    " "
   ]
  }
 ],
 "metadata": {
  "kernelspec": {
   "display_name": "Python 3 (ipykernel)",
   "language": "python",
   "name": "python3"
  },
  "language_info": {
   "codemirror_mode": {
    "name": "ipython",
    "version": 3
   },
   "file_extension": ".py",
   "mimetype": "text/x-python",
   "name": "python",
   "nbconvert_exporter": "python",
   "pygments_lexer": "ipython3",
   "version": "3.11.1"
  }
 },
 "nbformat": 4,
 "nbformat_minor": 5
}
