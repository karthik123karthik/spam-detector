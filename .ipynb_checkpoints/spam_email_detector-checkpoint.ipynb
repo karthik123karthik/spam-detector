{
 "cells": [
  {
   "cell_type": "code",
   "execution_count": 1,
   "id": "659eb2f0",
   "metadata": {},
   "outputs": [],
   "source": [
    "import pandas as pd;\n",
    "import numpy as np;\n",
    "from sklearn.model_selection import train_test_split; \n",
    "from sklearn.feature_extraction.text import TfidfVectorizer;\n",
    "from sklearn.linear_model import LogisticRegression;\n",
    "from sklearn.metrics import accuracy_score;\n",
    "import joblib;"
   ]
  },
  {
   "cell_type": "code",
   "execution_count": 2,
   "id": "290d2415",
   "metadata": {},
   "outputs": [],
   "source": [
    "mail_data_frame = pd.read_csv(\"mail_data.csv\");"
   ]
  },
  {
   "cell_type": "code",
   "execution_count": 3,
   "id": "33862ffa",
   "metadata": {},
   "outputs": [],
   "source": [
    "# removing null values\n",
    "mail_data_frame = mail_data_frame.where(pd.notnull(mail_data_frame),'');"
   ]
  },
  {
   "cell_type": "code",
   "execution_count": 4,
   "id": "295258cf",
   "metadata": {},
   "outputs": [],
   "source": [
    "# print(mail_data_frame);"
   ]
  },
  {
   "cell_type": "code",
   "execution_count": 5,
   "id": "5bf170f0",
   "metadata": {},
   "outputs": [],
   "source": [
    "mail_data_frame.loc[mail_data_frame['Category']=='spam', 'Category'] = 1;\n",
    "mail_data_frame.loc[mail_data_frame['Category']=='ham', 'Category'] = 0;"
   ]
  },
  {
   "cell_type": "code",
   "execution_count": 6,
   "id": "130fd8b4",
   "metadata": {},
   "outputs": [],
   "source": [
    "# print(mail_data_frame.head());"
   ]
  },
  {
   "cell_type": "code",
   "execution_count": 7,
   "id": "d9050da1",
   "metadata": {},
   "outputs": [],
   "source": [
    "X = mail_data_frame['Message'];\n",
    "y = mail_data_frame['Category'];"
   ]
  },
  {
   "cell_type": "code",
   "execution_count": 8,
   "id": "702e484f",
   "metadata": {},
   "outputs": [],
   "source": [
    "# print(f\" input size is {X.shape} output size is {y.shape}\");"
   ]
  },
  {
   "cell_type": "code",
   "execution_count": 9,
   "id": "3c643c4e",
   "metadata": {},
   "outputs": [],
   "source": [
    "# print(X[0:5]);"
   ]
  },
  {
   "cell_type": "code",
   "execution_count": 10,
   "id": "03052519",
   "metadata": {},
   "outputs": [],
   "source": [
    "X_train, X_test, y_train, y_test = train_test_split(X, y, test_size=0.2, random_state = 3);"
   ]
  },
  {
   "cell_type": "code",
   "execution_count": 11,
   "id": "5984b17f",
   "metadata": {},
   "outputs": [],
   "source": [
    "# print(X_train.shape)"
   ]
  },
  {
   "cell_type": "code",
   "execution_count": 12,
   "id": "5df43dbd",
   "metadata": {},
   "outputs": [],
   "source": [
    "### perform feauture extraction from X data sample\n",
    "feature_extraction = TfidfVectorizer();\n"
   ]
  },
  {
   "cell_type": "code",
   "execution_count": 13,
   "id": "2286a79c",
   "metadata": {},
   "outputs": [],
   "source": [
    "X_train_transformed_data = feature_extraction.fit_transform(X_train);\n",
    "X_test_transformed_data = feature_extraction.transform(X_test);\n",
    "y_train = y_train.astype(int);\n",
    "y_test = y_test.astype(int);"
   ]
  },
  {
   "cell_type": "code",
   "execution_count": 14,
   "id": "8ccaa846",
   "metadata": {},
   "outputs": [],
   "source": [
    "model =  LogisticRegression();"
   ]
  },
  {
   "cell_type": "code",
   "execution_count": 15,
   "id": "3a643173",
   "metadata": {},
   "outputs": [],
   "source": [
    "model.fit(X_train_transformed_data, y_train);"
   ]
  },
  {
   "cell_type": "code",
   "execution_count": 16,
   "id": "9e356b31",
   "metadata": {},
   "outputs": [
    {
     "name": "stdout",
     "output_type": "stream",
     "text": [
      "accuracy of the model is 97.30760601301324\n"
     ]
    }
   ],
   "source": [
    "prediction_on_trained_data = model.predict(X_train_transformed_data);\n",
    "print(f\"accuracy of the model is {accuracy_score(prediction_on_trained_data, y_train)*100}\");"
   ]
  },
  {
   "cell_type": "code",
   "execution_count": 17,
   "id": "472f7fd9",
   "metadata": {},
   "outputs": [
    {
     "name": "stdout",
     "output_type": "stream",
     "text": [
      "accuracy of the model is 97.75784753363229\n"
     ]
    }
   ],
   "source": [
    "prediction_on_test_data = model.predict(X_test_transformed_data);\n",
    "print(f\"accuracy of the model is {accuracy_score(prediction_on_test_data, y_test)*100}\");"
   ]
  },
  {
   "cell_type": "code",
   "execution_count": 18,
   "id": "72d57084",
   "metadata": {},
   "outputs": [],
   "source": [
    "spam_email = 'Renew Your Quick Heal Antivirus With 10% Instant Discount & 2 months of extra validity';\n",
    "tranformed_spam_email = feature_extraction.transform([spam_email]);"
   ]
  },
  {
   "cell_type": "code",
   "execution_count": 19,
   "id": "313fa78f",
   "metadata": {},
   "outputs": [],
   "source": [
    "prediction = model.predict(tranformed_spam_email);"
   ]
  },
  {
   "cell_type": "code",
   "execution_count": 20,
   "id": "4996553a",
   "metadata": {},
   "outputs": [],
   "source": [
    "# print(prediction);"
   ]
  },
  {
   "cell_type": "code",
   "execution_count": null,
   "id": "877a8e7a",
   "metadata": {},
   "outputs": [],
   "source": []
  }
 ],
 "metadata": {
  "kernelspec": {
   "display_name": "Python 3 (ipykernel)",
   "language": "python",
   "name": "python3"
  },
  "language_info": {
   "codemirror_mode": {
    "name": "ipython",
    "version": 3
   },
   "file_extension": ".py",
   "mimetype": "text/x-python",
   "name": "python",
   "nbconvert_exporter": "python",
   "pygments_lexer": "ipython3",
   "version": "3.11.1"
  }
 },
 "nbformat": 4,
 "nbformat_minor": 5
}
